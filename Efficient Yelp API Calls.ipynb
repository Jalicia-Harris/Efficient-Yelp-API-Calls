{
 "cells": [
  {
   "cell_type": "markdown",
   "id": "d54eba27",
   "metadata": {},
   "source": [
    "## Preliminary Steps:"
   ]
  },
  {
   "cell_type": "markdown",
   "id": "0e1b0adc",
   "metadata": {},
   "source": [
    "### Imports"
   ]
  },
  {
   "cell_type": "code",
   "execution_count": 1,
   "id": "08dbff8f",
   "metadata": {},
   "outputs": [],
   "source": [
    "# Standard imports\n",
    "import numpy as np\n",
    "import pandas as pd\n",
    "import matplotlib.pyplot as plt\n",
    "import seaborn as sns\n",
    "# Additional Imports\n",
    "import os, json, math, time\n",
    "from yelpapi import YelpAPI\n",
    "from tqdm.notebook import tqdm_notebook"
   ]
  },
  {
   "cell_type": "markdown",
   "id": "59947493",
   "metadata": {},
   "source": [
    "### Credentials and Accessing the API"
   ]
  },
  {
   "cell_type": "code",
   "execution_count": 2,
   "id": "f6b99765",
   "metadata": {},
   "outputs": [],
   "source": [
    "# Load API Credentials\n",
    "with open('/Users/jalic/.secret/yelp_api.json') as f:\n",
    "    login = json.load(f)\n",
    "# Instantiate YelpAPI Variable\n",
    "yelp_api = YelpAPI(login['api-key'], timeout_s=5.0)"
   ]
  },
  {
   "cell_type": "markdown",
   "id": "1042ab87",
   "metadata": {},
   "source": [
    "## API Extraction:"
   ]
  },
  {
   "cell_type": "markdown",
   "id": "6f997314",
   "metadata": {},
   "source": [
    "### Define Search"
   ]
  },
  {
   "cell_type": "code",
   "execution_count": 3,
   "id": "392f0f7b",
   "metadata": {},
   "outputs": [],
   "source": [
    "# Set API call parameters for favorite city and cuisine type\n",
    "LOCATION = 'Memphis, TN'\n",
    "TERM = 'Barbeque'"
   ]
  },
  {
   "cell_type": "markdown",
   "id": "04e4b5ac",
   "metadata": {},
   "source": [
    "### Create a results-in-progress JSON file"
   ]
  },
  {
   "cell_type": "code",
   "execution_count": 4,
   "id": "b94777b8",
   "metadata": {},
   "outputs": [
    {
     "data": {
      "text/plain": [
       "'Data/results_in_progress_Memphis_BBQ.json'"
      ]
     },
     "execution_count": 4,
     "metadata": {},
     "output_type": "execute_result"
    }
   ],
   "source": [
    "# Specifying JSON_FILE filename (can include a folder)\n",
    "# include the search terms in the filename\n",
    "JSON_FILE = \"Data/results_in_progress_Memphis_BBQ.json\"\n",
    "JSON_FILE"
   ]
  },
  {
   "cell_type": "markdown",
   "id": "2b260768",
   "metadata": {},
   "source": [
    "### Create a For Loop"
   ]
  },
  {
   "cell_type": "code",
   "execution_count": 5,
   "id": "83ec36de",
   "metadata": {},
   "outputs": [
    {
     "name": "stdout",
     "output_type": "stream",
     "text": [
      "[i] Data/results_in_progress_Memphis_BBQ.json already exists.\n"
     ]
    }
   ],
   "source": [
    "# Check if JSON_FILE exists\n",
    "file_exists = os.path.isfile(JSON_FILE)\n",
    "# If it does not exist:\n",
    "if file_exists == False:\n",
    "    \n",
    "    # CREATE ANY NEEDED FOLDERS\n",
    "    #Get the Folder Name only\n",
    "    folder = os.path.dirname(JSON_FILE)\n",
    "    # If JSON_FILE included a folder:\n",
    "    if len(folder)>0:\n",
    "        # Create the folder\n",
    "        os.makedirs(folder, exist_ok=True)\n",
    "        \n",
    "    # INFORM USER AND SAVE EMPTY LIST\n",
    "    print(f'[i] {JSON_FILE} not found. Saving empty list to file.')\n",
    "    \n",
    "    # Save an empty list\n",
    "    with open(JSON_FILE, 'w') as f:\n",
    "        json.dump([], f)\n",
    "\n",
    "# If it exists, inform user\n",
    "else:\n",
    "    print(f\"[i] {JSON_FILE} already exists.\")"
   ]
  },
  {
   "cell_type": "code",
   "execution_count": 6,
   "id": "51fa550f",
   "metadata": {},
   "outputs": [
    {
     "name": "stdout",
     "output_type": "stream",
     "text": [
      "- 20 previous results found.\n"
     ]
    },
    {
     "data": {
      "text/plain": [
       "49"
      ]
     },
     "execution_count": 6,
     "metadata": {},
     "output_type": "execute_result"
    }
   ],
   "source": [
    "# Load previous results and use len of results for offset\n",
    "with open(JSON_FILE, 'r') as f:\n",
    "    previous_results = json.load(f)\n",
    "    \n",
    "# Set offset based on previous results\n",
    "n_results = len(previous_results)\n",
    "print(f'- {n_results} previous results found.')\n",
    "# Use our yelp_api variable's search_query method to perform our API call\n",
    "results =yelp_api.search_query(location=LOCATION,\n",
    "                              term=TERM,\n",
    "                              offset=n_results)\n",
    "# How many results total?\n",
    "total_results = results['total']\n",
    "total_results\n",
    "# How many did we get the details for?\n",
    "results_per_page = len(results['businesses'])\n",
    "# Use math.ceil to round up for the total number of pages of results\n",
    "n_pages = math.ceil((results['total']-n_results)/ results_per_page)\n",
    "n_pages"
   ]
  },
  {
   "cell_type": "markdown",
   "id": "fd725ebf",
   "metadata": {},
   "source": [
    "### Add this page of results to .json file"
   ]
  },
  {
   "cell_type": "code",
   "execution_count": 7,
   "id": "5b28901c",
   "metadata": {},
   "outputs": [],
   "source": [
    "# Join new results with old list with extend and save to file\n",
    "previous_results.extend(results['businesses'])\n",
    "with open (JSON_FILE, 'w') as f:\n",
    "    json.dump(previous_results, f)"
   ]
  },
  {
   "cell_type": "markdown",
   "id": "e0fd098c",
   "metadata": {},
   "source": [
    "### Set up a progress bar in the for loop"
   ]
  },
  {
   "cell_type": "code",
   "execution_count": 8,
   "id": "55c98fa6",
   "metadata": {},
   "outputs": [
    {
     "data": {
      "application/vnd.jupyter.widget-view+json": {
       "model_id": "dbf80148c4274d74a7edcab4a79ffc9f",
       "version_major": 2,
       "version_minor": 0
      },
      "text/plain": [
       "  0%|          | 0/49 [00:00<?, ?it/s]"
      ]
     },
     "metadata": {},
     "output_type": "display_data"
    }
   ],
   "source": [
    "from tqdm.notebook import tqdm_notebook\n",
    "import time\n",
    "for i in tqdm_notebook(range(n_pages)):\n",
    "    # Adds 200 ms pause\n",
    "    time.sleep(.2)"
   ]
  },
  {
   "cell_type": "markdown",
   "id": "142d9378",
   "metadata": {},
   "source": [
    "## After For Loop is Completed:"
   ]
  },
  {
   "cell_type": "code",
   "execution_count": 9,
   "id": "6bea8f55",
   "metadata": {},
   "outputs": [
    {
     "data": {
      "text/html": [
       "<div>\n",
       "<style scoped>\n",
       "    .dataframe tbody tr th:only-of-type {\n",
       "        vertical-align: middle;\n",
       "    }\n",
       "\n",
       "    .dataframe tbody tr th {\n",
       "        vertical-align: top;\n",
       "    }\n",
       "\n",
       "    .dataframe thead th {\n",
       "        text-align: right;\n",
       "    }\n",
       "</style>\n",
       "<table border=\"1\" class=\"dataframe\">\n",
       "  <thead>\n",
       "    <tr style=\"text-align: right;\">\n",
       "      <th></th>\n",
       "      <th>id</th>\n",
       "      <th>alias</th>\n",
       "      <th>name</th>\n",
       "      <th>image_url</th>\n",
       "      <th>is_closed</th>\n",
       "      <th>url</th>\n",
       "      <th>review_count</th>\n",
       "      <th>categories</th>\n",
       "      <th>rating</th>\n",
       "      <th>coordinates</th>\n",
       "      <th>transactions</th>\n",
       "      <th>price</th>\n",
       "      <th>location</th>\n",
       "      <th>phone</th>\n",
       "      <th>display_phone</th>\n",
       "      <th>distance</th>\n",
       "    </tr>\n",
       "  </thead>\n",
       "  <tbody>\n",
       "    <tr>\n",
       "      <th>0</th>\n",
       "      <td>o_KvDfOLLlNKla4e7dwaTQ</td>\n",
       "      <td>central-bbq-memphis-3</td>\n",
       "      <td>Central BBQ</td>\n",
       "      <td>https://s3-media1.fl.yelpcdn.com/bphoto/p3Y4ia...</td>\n",
       "      <td>False</td>\n",
       "      <td>https://www.yelp.com/biz/central-bbq-memphis-3...</td>\n",
       "      <td>2314</td>\n",
       "      <td>[{'alias': 'bbq', 'title': 'Barbeque'}, {'alia...</td>\n",
       "      <td>4.0</td>\n",
       "      <td>{'latitude': 35.13381, 'longitude': -90.05716}</td>\n",
       "      <td>[delivery, pickup]</td>\n",
       "      <td>$$</td>\n",
       "      <td>{'address1': '147 E Butler Ave', 'address2': '...</td>\n",
       "      <td>+19016727760</td>\n",
       "      <td>(901) 672-7760</td>\n",
       "      <td>2475.360971</td>\n",
       "    </tr>\n",
       "    <tr>\n",
       "      <th>1</th>\n",
       "      <td>rB5uSDXgbj995hJ0wxZFmQ</td>\n",
       "      <td>paynes-bar-b-que-memphis</td>\n",
       "      <td>Payne's Bar-B-Que</td>\n",
       "      <td>https://s3-media2.fl.yelpcdn.com/bphoto/MiYRNH...</td>\n",
       "      <td>False</td>\n",
       "      <td>https://www.yelp.com/biz/paynes-bar-b-que-memp...</td>\n",
       "      <td>321</td>\n",
       "      <td>[{'alias': 'bbq', 'title': 'Barbeque'}]</td>\n",
       "      <td>4.5</td>\n",
       "      <td>{'latitude': 35.11817, 'longitude': -90.00306}</td>\n",
       "      <td>[delivery]</td>\n",
       "      <td>$</td>\n",
       "      <td>{'address1': '1762 Lamar Ave', 'address2': '',...</td>\n",
       "      <td>+19012721523</td>\n",
       "      <td>(901) 272-1523</td>\n",
       "      <td>2842.887948</td>\n",
       "    </tr>\n",
       "    <tr>\n",
       "      <th>2</th>\n",
       "      <td>GgPbCwGC-wci0v_YDe7bbQ</td>\n",
       "      <td>blues-city-cafe-memphis</td>\n",
       "      <td>Blues City Cafe</td>\n",
       "      <td>https://s3-media3.fl.yelpcdn.com/bphoto/7nAbbr...</td>\n",
       "      <td>False</td>\n",
       "      <td>https://www.yelp.com/biz/blues-city-cafe-memph...</td>\n",
       "      <td>1729</td>\n",
       "      <td>[{'alias': 'southern', 'title': 'Southern'}, {...</td>\n",
       "      <td>4.0</td>\n",
       "      <td>{'latitude': 35.1402, 'longitude': -90.053379}</td>\n",
       "      <td>[delivery, pickup]</td>\n",
       "      <td>$$</td>\n",
       "      <td>{'address1': '138 Beale St', 'address2': '', '...</td>\n",
       "      <td>+19015263637</td>\n",
       "      <td>(901) 526-3637</td>\n",
       "      <td>2343.523686</td>\n",
       "    </tr>\n",
       "    <tr>\n",
       "      <th>3</th>\n",
       "      <td>RBc7QurYPiFXyu7w5-RzXw</td>\n",
       "      <td>arnolds-bar-b-que-and-grill-memphis</td>\n",
       "      <td>Arnolds BAR-B-QUE &amp; Grill</td>\n",
       "      <td>https://s3-media2.fl.yelpcdn.com/bphoto/eny1WB...</td>\n",
       "      <td>False</td>\n",
       "      <td>https://www.yelp.com/biz/arnolds-bar-b-que-and...</td>\n",
       "      <td>165</td>\n",
       "      <td>[{'alias': 'bbq', 'title': 'Barbeque'}, {'alia...</td>\n",
       "      <td>4.5</td>\n",
       "      <td>{'latitude': 35.14292, 'longitude': -90.04546}</td>\n",
       "      <td>[delivery]</td>\n",
       "      <td>$$</td>\n",
       "      <td>{'address1': '337 Madison Ave', 'address2': 'S...</td>\n",
       "      <td>+19017300290</td>\n",
       "      <td>(901) 730-0290</td>\n",
       "      <td>1915.597797</td>\n",
       "    </tr>\n",
       "    <tr>\n",
       "      <th>4</th>\n",
       "      <td>4kqhpPpyT3ZAAoy9cO8SoA</td>\n",
       "      <td>charlie-vergos-rendezvous-memphis-3</td>\n",
       "      <td>Charlie Vergos' Rendezvous</td>\n",
       "      <td>https://s3-media3.fl.yelpcdn.com/bphoto/a4Ug5H...</td>\n",
       "      <td>False</td>\n",
       "      <td>https://www.yelp.com/biz/charlie-vergos-rendez...</td>\n",
       "      <td>2587</td>\n",
       "      <td>[{'alias': 'bbq', 'title': 'Barbeque'}, {'alia...</td>\n",
       "      <td>3.5</td>\n",
       "      <td>{'latitude': 35.1433447203971, 'longitude': -9...</td>\n",
       "      <td>[delivery, pickup]</td>\n",
       "      <td>$$</td>\n",
       "      <td>{'address1': '52 S 2nd St', 'address2': '', 'a...</td>\n",
       "      <td>+19015232746</td>\n",
       "      <td>(901) 523-2746</td>\n",
       "      <td>2381.831021</td>\n",
       "    </tr>\n",
       "  </tbody>\n",
       "</table>\n",
       "</div>"
      ],
      "text/plain": [
       "                       id                                alias  \\\n",
       "0  o_KvDfOLLlNKla4e7dwaTQ                central-bbq-memphis-3   \n",
       "1  rB5uSDXgbj995hJ0wxZFmQ             paynes-bar-b-que-memphis   \n",
       "2  GgPbCwGC-wci0v_YDe7bbQ              blues-city-cafe-memphis   \n",
       "3  RBc7QurYPiFXyu7w5-RzXw  arnolds-bar-b-que-and-grill-memphis   \n",
       "4  4kqhpPpyT3ZAAoy9cO8SoA  charlie-vergos-rendezvous-memphis-3   \n",
       "\n",
       "                         name  \\\n",
       "0                 Central BBQ   \n",
       "1           Payne's Bar-B-Que   \n",
       "2             Blues City Cafe   \n",
       "3   Arnolds BAR-B-QUE & Grill   \n",
       "4  Charlie Vergos' Rendezvous   \n",
       "\n",
       "                                           image_url  is_closed  \\\n",
       "0  https://s3-media1.fl.yelpcdn.com/bphoto/p3Y4ia...      False   \n",
       "1  https://s3-media2.fl.yelpcdn.com/bphoto/MiYRNH...      False   \n",
       "2  https://s3-media3.fl.yelpcdn.com/bphoto/7nAbbr...      False   \n",
       "3  https://s3-media2.fl.yelpcdn.com/bphoto/eny1WB...      False   \n",
       "4  https://s3-media3.fl.yelpcdn.com/bphoto/a4Ug5H...      False   \n",
       "\n",
       "                                                 url  review_count  \\\n",
       "0  https://www.yelp.com/biz/central-bbq-memphis-3...          2314   \n",
       "1  https://www.yelp.com/biz/paynes-bar-b-que-memp...           321   \n",
       "2  https://www.yelp.com/biz/blues-city-cafe-memph...          1729   \n",
       "3  https://www.yelp.com/biz/arnolds-bar-b-que-and...           165   \n",
       "4  https://www.yelp.com/biz/charlie-vergos-rendez...          2587   \n",
       "\n",
       "                                          categories  rating  \\\n",
       "0  [{'alias': 'bbq', 'title': 'Barbeque'}, {'alia...     4.0   \n",
       "1            [{'alias': 'bbq', 'title': 'Barbeque'}]     4.5   \n",
       "2  [{'alias': 'southern', 'title': 'Southern'}, {...     4.0   \n",
       "3  [{'alias': 'bbq', 'title': 'Barbeque'}, {'alia...     4.5   \n",
       "4  [{'alias': 'bbq', 'title': 'Barbeque'}, {'alia...     3.5   \n",
       "\n",
       "                                         coordinates        transactions  \\\n",
       "0     {'latitude': 35.13381, 'longitude': -90.05716}  [delivery, pickup]   \n",
       "1     {'latitude': 35.11817, 'longitude': -90.00306}          [delivery]   \n",
       "2     {'latitude': 35.1402, 'longitude': -90.053379}  [delivery, pickup]   \n",
       "3     {'latitude': 35.14292, 'longitude': -90.04546}          [delivery]   \n",
       "4  {'latitude': 35.1433447203971, 'longitude': -9...  [delivery, pickup]   \n",
       "\n",
       "  price                                           location         phone  \\\n",
       "0    $$  {'address1': '147 E Butler Ave', 'address2': '...  +19016727760   \n",
       "1     $  {'address1': '1762 Lamar Ave', 'address2': '',...  +19012721523   \n",
       "2    $$  {'address1': '138 Beale St', 'address2': '', '...  +19015263637   \n",
       "3    $$  {'address1': '337 Madison Ave', 'address2': 'S...  +19017300290   \n",
       "4    $$  {'address1': '52 S 2nd St', 'address2': '', 'a...  +19015232746   \n",
       "\n",
       "    display_phone     distance  \n",
       "0  (901) 672-7760  2475.360971  \n",
       "1  (901) 272-1523  2842.887948  \n",
       "2  (901) 526-3637  2343.523686  \n",
       "3  (901) 730-0290  1915.597797  \n",
       "4  (901) 523-2746  2381.831021  "
      ]
     },
     "metadata": {},
     "output_type": "display_data"
    },
    {
     "data": {
      "text/html": [
       "<div>\n",
       "<style scoped>\n",
       "    .dataframe tbody tr th:only-of-type {\n",
       "        vertical-align: middle;\n",
       "    }\n",
       "\n",
       "    .dataframe tbody tr th {\n",
       "        vertical-align: top;\n",
       "    }\n",
       "\n",
       "    .dataframe thead th {\n",
       "        text-align: right;\n",
       "    }\n",
       "</style>\n",
       "<table border=\"1\" class=\"dataframe\">\n",
       "  <thead>\n",
       "    <tr style=\"text-align: right;\">\n",
       "      <th></th>\n",
       "      <th>id</th>\n",
       "      <th>alias</th>\n",
       "      <th>name</th>\n",
       "      <th>image_url</th>\n",
       "      <th>is_closed</th>\n",
       "      <th>url</th>\n",
       "      <th>review_count</th>\n",
       "      <th>categories</th>\n",
       "      <th>rating</th>\n",
       "      <th>coordinates</th>\n",
       "      <th>transactions</th>\n",
       "      <th>price</th>\n",
       "      <th>location</th>\n",
       "      <th>phone</th>\n",
       "      <th>display_phone</th>\n",
       "      <th>distance</th>\n",
       "    </tr>\n",
       "  </thead>\n",
       "  <tbody>\n",
       "    <tr>\n",
       "      <th>35</th>\n",
       "      <td>OYLkahSo1yrwi60mJImzxQ</td>\n",
       "      <td>bar-b-zoo-smokehouse-memphis</td>\n",
       "      <td>Bar B Zoo Smokehouse</td>\n",
       "      <td>https://s3-media2.fl.yelpcdn.com/bphoto/8-6SQ8...</td>\n",
       "      <td>False</td>\n",
       "      <td>https://www.yelp.com/biz/bar-b-zoo-smokehouse-...</td>\n",
       "      <td>1</td>\n",
       "      <td>[{'alias': 'bbq', 'title': 'Barbeque'}]</td>\n",
       "      <td>5.0</td>\n",
       "      <td>{'latitude': 35.14821758032184, 'longitude': -...</td>\n",
       "      <td>[]</td>\n",
       "      <td>NaN</td>\n",
       "      <td>{'address1': '2000 Prentiss Pl', 'address2': '...</td>\n",
       "      <td></td>\n",
       "      <td></td>\n",
       "      <td>3730.879500</td>\n",
       "    </tr>\n",
       "    <tr>\n",
       "      <th>36</th>\n",
       "      <td>Uqy3cJHMfc4crc4gpP8ugw</td>\n",
       "      <td>germantown-commissary-germantown</td>\n",
       "      <td>Germantown Commissary</td>\n",
       "      <td>https://s3-media3.fl.yelpcdn.com/bphoto/ySOToY...</td>\n",
       "      <td>False</td>\n",
       "      <td>https://www.yelp.com/biz/germantown-commissary...</td>\n",
       "      <td>1152</td>\n",
       "      <td>[{'alias': 'bbq', 'title': 'Barbeque'}, {'alia...</td>\n",
       "      <td>4.0</td>\n",
       "      <td>{'latitude': 35.08646068169633, 'longitude': -...</td>\n",
       "      <td>[pickup, delivery]</td>\n",
       "      <td>$$</td>\n",
       "      <td>{'address1': '2290 S Germantown Rd', 'address2...</td>\n",
       "      <td>+19017545540</td>\n",
       "      <td>(901) 754-5540</td>\n",
       "      <td>20607.461749</td>\n",
       "    </tr>\n",
       "    <tr>\n",
       "      <th>37</th>\n",
       "      <td>haE2mFLcM3PSmGtIDQatcg</td>\n",
       "      <td>one-and-only-bbq-memphis-7</td>\n",
       "      <td>One &amp; Only BBQ</td>\n",
       "      <td>https://s3-media3.fl.yelpcdn.com/bphoto/glzAY5...</td>\n",
       "      <td>False</td>\n",
       "      <td>https://www.yelp.com/biz/one-and-only-bbq-memp...</td>\n",
       "      <td>532</td>\n",
       "      <td>[{'alias': 'bbq', 'title': 'Barbeque'}, {'alia...</td>\n",
       "      <td>4.5</td>\n",
       "      <td>{'latitude': 35.10068455653, 'longitude': -89....</td>\n",
       "      <td>[pickup, delivery]</td>\n",
       "      <td>$$</td>\n",
       "      <td>{'address1': '1779 Kirby Pkwy', 'address2': 'S...</td>\n",
       "      <td>+19017513615</td>\n",
       "      <td>(901) 751-3615</td>\n",
       "      <td>17659.121212</td>\n",
       "    </tr>\n",
       "    <tr>\n",
       "      <th>38</th>\n",
       "      <td>OZjrUk-CJq7mVKPYTVfc0Q</td>\n",
       "      <td>flying-fish-memphis-2</td>\n",
       "      <td>Flying Fish</td>\n",
       "      <td>https://s3-media1.fl.yelpcdn.com/bphoto/_UXk4Z...</td>\n",
       "      <td>False</td>\n",
       "      <td>https://www.yelp.com/biz/flying-fish-memphis-2...</td>\n",
       "      <td>546</td>\n",
       "      <td>[{'alias': 'seafood', 'title': 'Seafood'}, {'a...</td>\n",
       "      <td>4.0</td>\n",
       "      <td>{'latitude': 35.1420662668398, 'longitude': -9...</td>\n",
       "      <td>[delivery]</td>\n",
       "      <td>$$</td>\n",
       "      <td>{'address1': '105 S 2nd St', 'address2': '', '...</td>\n",
       "      <td>+19015228228</td>\n",
       "      <td>(901) 522-8228</td>\n",
       "      <td>2394.967028</td>\n",
       "    </tr>\n",
       "    <tr>\n",
       "      <th>39</th>\n",
       "      <td>t_UWaG7BMQungFcuMGgBXw</td>\n",
       "      <td>pollard-s-bbq-memphis</td>\n",
       "      <td>Pollard’s BBQ</td>\n",
       "      <td>https://s3-media4.fl.yelpcdn.com/bphoto/2Dn-FZ...</td>\n",
       "      <td>False</td>\n",
       "      <td>https://www.yelp.com/biz/pollard-s-bbq-memphis...</td>\n",
       "      <td>115</td>\n",
       "      <td>[{'alias': 'bbq', 'title': 'Barbeque'}]</td>\n",
       "      <td>4.5</td>\n",
       "      <td>{'latitude': 35.0241737365723, 'longitude': -9...</td>\n",
       "      <td>[delivery]</td>\n",
       "      <td>$</td>\n",
       "      <td>{'address1': '4560 Elvis Presley Blvd', 'addre...</td>\n",
       "      <td>+19013982987</td>\n",
       "      <td>(901) 398-2987</td>\n",
       "      <td>11888.945630</td>\n",
       "    </tr>\n",
       "  </tbody>\n",
       "</table>\n",
       "</div>"
      ],
      "text/plain": [
       "                        id                             alias  \\\n",
       "35  OYLkahSo1yrwi60mJImzxQ      bar-b-zoo-smokehouse-memphis   \n",
       "36  Uqy3cJHMfc4crc4gpP8ugw  germantown-commissary-germantown   \n",
       "37  haE2mFLcM3PSmGtIDQatcg        one-and-only-bbq-memphis-7   \n",
       "38  OZjrUk-CJq7mVKPYTVfc0Q             flying-fish-memphis-2   \n",
       "39  t_UWaG7BMQungFcuMGgBXw             pollard-s-bbq-memphis   \n",
       "\n",
       "                     name                                          image_url  \\\n",
       "35   Bar B Zoo Smokehouse  https://s3-media2.fl.yelpcdn.com/bphoto/8-6SQ8...   \n",
       "36  Germantown Commissary  https://s3-media3.fl.yelpcdn.com/bphoto/ySOToY...   \n",
       "37         One & Only BBQ  https://s3-media3.fl.yelpcdn.com/bphoto/glzAY5...   \n",
       "38            Flying Fish  https://s3-media1.fl.yelpcdn.com/bphoto/_UXk4Z...   \n",
       "39          Pollard’s BBQ  https://s3-media4.fl.yelpcdn.com/bphoto/2Dn-FZ...   \n",
       "\n",
       "    is_closed                                                url  \\\n",
       "35      False  https://www.yelp.com/biz/bar-b-zoo-smokehouse-...   \n",
       "36      False  https://www.yelp.com/biz/germantown-commissary...   \n",
       "37      False  https://www.yelp.com/biz/one-and-only-bbq-memp...   \n",
       "38      False  https://www.yelp.com/biz/flying-fish-memphis-2...   \n",
       "39      False  https://www.yelp.com/biz/pollard-s-bbq-memphis...   \n",
       "\n",
       "    review_count                                         categories  rating  \\\n",
       "35             1            [{'alias': 'bbq', 'title': 'Barbeque'}]     5.0   \n",
       "36          1152  [{'alias': 'bbq', 'title': 'Barbeque'}, {'alia...     4.0   \n",
       "37           532  [{'alias': 'bbq', 'title': 'Barbeque'}, {'alia...     4.5   \n",
       "38           546  [{'alias': 'seafood', 'title': 'Seafood'}, {'a...     4.0   \n",
       "39           115            [{'alias': 'bbq', 'title': 'Barbeque'}]     4.5   \n",
       "\n",
       "                                          coordinates        transactions  \\\n",
       "35  {'latitude': 35.14821758032184, 'longitude': -...                  []   \n",
       "36  {'latitude': 35.08646068169633, 'longitude': -...  [pickup, delivery]   \n",
       "37  {'latitude': 35.10068455653, 'longitude': -89....  [pickup, delivery]   \n",
       "38  {'latitude': 35.1420662668398, 'longitude': -9...          [delivery]   \n",
       "39  {'latitude': 35.0241737365723, 'longitude': -9...          [delivery]   \n",
       "\n",
       "   price                                           location         phone  \\\n",
       "35   NaN  {'address1': '2000 Prentiss Pl', 'address2': '...                 \n",
       "36    $$  {'address1': '2290 S Germantown Rd', 'address2...  +19017545540   \n",
       "37    $$  {'address1': '1779 Kirby Pkwy', 'address2': 'S...  +19017513615   \n",
       "38    $$  {'address1': '105 S 2nd St', 'address2': '', '...  +19015228228   \n",
       "39     $  {'address1': '4560 Elvis Presley Blvd', 'addre...  +19013982987   \n",
       "\n",
       "     display_phone      distance  \n",
       "35                   3730.879500  \n",
       "36  (901) 754-5540  20607.461749  \n",
       "37  (901) 751-3615  17659.121212  \n",
       "38  (901) 522-8228   2394.967028  \n",
       "39  (901) 398-2987  11888.945630  "
      ]
     },
     "metadata": {},
     "output_type": "display_data"
    }
   ],
   "source": [
    "# Convert final results json file into a DataFrame\n",
    "final_df = pd.read_json(JSON_FILE)\n",
    "display(final_df.head(), final_df.tail())"
   ]
  },
  {
   "cell_type": "markdown",
   "id": "fc09bf7d",
   "metadata": {},
   "source": [
    "### Check for and remove any duplicate results "
   ]
  },
  {
   "cell_type": "code",
   "execution_count": 10,
   "id": "2799b308",
   "metadata": {},
   "outputs": [
    {
     "data": {
      "text/plain": [
       "0"
      ]
     },
     "execution_count": 10,
     "metadata": {},
     "output_type": "execute_result"
    }
   ],
   "source": [
    "# Check for duplicate ID's\n",
    "final_df.duplicated(subset='id').sum()"
   ]
  },
  {
   "cell_type": "markdown",
   "id": "56717c0f",
   "metadata": {},
   "source": [
    "### Save final DataFrame to a csv file"
   ]
  },
  {
   "cell_type": "code",
   "execution_count": 12,
   "id": "5719e7af",
   "metadata": {},
   "outputs": [],
   "source": [
    "# Save the final results to a compressed csv\n",
    "final_df.to_csv('Data/final_results_Memphis_BBQ.csv.gz', compression='gzip', index=False)"
   ]
  }
 ],
 "metadata": {
  "kernelspec": {
   "display_name": "Python 3 (ipykernel)",
   "language": "python",
   "name": "python3"
  },
  "language_info": {
   "codemirror_mode": {
    "name": "ipython",
    "version": 3
   },
   "file_extension": ".py",
   "mimetype": "text/x-python",
   "name": "python",
   "nbconvert_exporter": "python",
   "pygments_lexer": "ipython3",
   "version": "3.9.15"
  },
  "toc": {
   "base_numbering": 1,
   "nav_menu": {},
   "number_sections": false,
   "sideBar": true,
   "skip_h1_title": false,
   "title_cell": "Table of Contents",
   "title_sidebar": "Contents",
   "toc_cell": false,
   "toc_position": {},
   "toc_section_display": true,
   "toc_window_display": false
  }
 },
 "nbformat": 4,
 "nbformat_minor": 5
}
